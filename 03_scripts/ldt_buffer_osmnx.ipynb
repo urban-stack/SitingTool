{
 "cells": [
  {
   "cell_type": "markdown",
   "id": "70c572ae-e259-442e-872a-95a55e282e72",
   "metadata": {},
   "source": [
    "### 0 Load libraries"
   ]
  },
  {
   "cell_type": "code",
   "execution_count": 26,
   "id": "99e39ba1-ba38-4a7c-ad40-c924ca908b41",
   "metadata": {},
   "outputs": [],
   "source": [
    "import pandas as pd\n",
    "import geopandas as gpd\n",
    "import numpy as np\n",
    "import sys, os\n",
    "import osmnx as ox\n",
    "import networkx as nx\n",
    "from shapely.geometry import Point"
   ]
  },
  {
   "cell_type": "code",
   "execution_count": 98,
   "id": "e176cbcf-5760-40cb-90b3-02f8c6fd0c80",
   "metadata": {},
   "outputs": [],
   "source": [
    "import time\n",
    "import multiprocessing\n",
    "from joblib import Parallel, delayed"
   ]
  },
  {
   "cell_type": "code",
   "execution_count": 118,
   "id": "fb3e153a-93f5-4655-a8dc-7e1fd96fb731",
   "metadata": {},
   "outputs": [
    {
     "data": {
      "text/plain": [
       "8"
      ]
     },
     "execution_count": 118,
     "metadata": {},
     "output_type": "execute_result"
    }
   ],
   "source": [
    "multiprocessing.cpu_count()"
   ]
  },
  {
   "cell_type": "markdown",
   "id": "c122753d-d215-4dc6-9e8c-041cc48b3547",
   "metadata": {},
   "source": [
    "### 1 Load parcel buffers and change its CRS"
   ]
  },
  {
   "cell_type": "code",
   "execution_count": 44,
   "id": "e5744bbf-2ec0-45e1-9d5f-d38b87b11bbe",
   "metadata": {},
   "outputs": [],
   "source": [
    "parcel_buffer = gpd.read_file('/Users/su/Desktop/Research/GSD_RA/LDT/02_data/parcel/parcel_centroid_buffer_6346.geojson')[['UNIQUEID', 'X', 'Y', 'geometry']]"
   ]
  },
  {
   "cell_type": "code",
   "execution_count": 45,
   "id": "eb4b68b4-cb68-49d6-b283-8fee3b385287",
   "metadata": {},
   "outputs": [],
   "source": [
    "parcel_buffer_4326 = parcel_buffer.to_crs(4326)"
   ]
  },
  {
   "cell_type": "code",
   "execution_count": 46,
   "id": "e1ca5f83-f3b7-41c8-afdb-4310cf339db3",
   "metadata": {},
   "outputs": [
    {
     "data": {
      "text/html": [
       "<div>\n",
       "<style scoped>\n",
       "    .dataframe tbody tr th:only-of-type {\n",
       "        vertical-align: middle;\n",
       "    }\n",
       "\n",
       "    .dataframe tbody tr th {\n",
       "        vertical-align: top;\n",
       "    }\n",
       "\n",
       "    .dataframe thead th {\n",
       "        text-align: right;\n",
       "    }\n",
       "</style>\n",
       "<table border=\"1\" class=\"dataframe\">\n",
       "  <thead>\n",
       "    <tr style=\"text-align: right;\">\n",
       "      <th></th>\n",
       "      <th>UNIQUEID</th>\n",
       "      <th>X</th>\n",
       "      <th>Y</th>\n",
       "      <th>geometry</th>\n",
       "    </tr>\n",
       "  </thead>\n",
       "  <tbody>\n",
       "    <tr>\n",
       "      <th>0</th>\n",
       "      <td>4888407_40.4680212651577</td>\n",
       "      <td>-79.910724</td>\n",
       "      <td>40.468021</td>\n",
       "      <td>MULTIPOLYGON (((-79.89893 40.46791, -79.89955 ...</td>\n",
       "    </tr>\n",
       "    <tr>\n",
       "      <th>1</th>\n",
       "      <td>4888408_40.4357245082487</td>\n",
       "      <td>-80.024640</td>\n",
       "      <td>40.435725</td>\n",
       "      <td>MULTIPOLYGON (((-80.01285 40.43562, -80.01347 ...</td>\n",
       "    </tr>\n",
       "    <tr>\n",
       "      <th>2</th>\n",
       "      <td>4888412_40.478541348714</td>\n",
       "      <td>-79.953998</td>\n",
       "      <td>40.478541</td>\n",
       "      <td>MULTIPOLYGON (((-79.94220 40.47843, -79.94282 ...</td>\n",
       "    </tr>\n",
       "    <tr>\n",
       "      <th>3</th>\n",
       "      <td>4888416_40.4549158768041</td>\n",
       "      <td>-79.882681</td>\n",
       "      <td>40.454916</td>\n",
       "      <td>MULTIPOLYGON (((-79.87089 40.45480, -79.87151 ...</td>\n",
       "    </tr>\n",
       "    <tr>\n",
       "      <th>4</th>\n",
       "      <td>4888422_40.4266880870026</td>\n",
       "      <td>-79.981711</td>\n",
       "      <td>40.426688</td>\n",
       "      <td>MULTIPOLYGON (((-79.96992 40.42658, -79.97054 ...</td>\n",
       "    </tr>\n",
       "    <tr>\n",
       "      <th>...</th>\n",
       "      <td>...</td>\n",
       "      <td>...</td>\n",
       "      <td>...</td>\n",
       "      <td>...</td>\n",
       "    </tr>\n",
       "    <tr>\n",
       "      <th>144180</th>\n",
       "      <td>5468419_40.3895155605449</td>\n",
       "      <td>-79.920191</td>\n",
       "      <td>40.389516</td>\n",
       "      <td>MULTIPOLYGON (((-79.90841 40.38940, -79.90903 ...</td>\n",
       "    </tr>\n",
       "    <tr>\n",
       "      <th>144181</th>\n",
       "      <td>5468422_40.4007550055504</td>\n",
       "      <td>-79.985343</td>\n",
       "      <td>40.400755</td>\n",
       "      <td>MULTIPOLYGON (((-79.97356 40.40065, -79.97418 ...</td>\n",
       "    </tr>\n",
       "    <tr>\n",
       "      <th>144182</th>\n",
       "      <td>5468425_40.4608145008291</td>\n",
       "      <td>-79.917927</td>\n",
       "      <td>40.460815</td>\n",
       "      <td>MULTIPOLYGON (((-79.90613 40.46070, -79.90676 ...</td>\n",
       "    </tr>\n",
       "    <tr>\n",
       "      <th>144183</th>\n",
       "      <td>5468438_40.4174061002107</td>\n",
       "      <td>-80.007634</td>\n",
       "      <td>40.417406</td>\n",
       "      <td>MULTIPOLYGON (((-79.99585 40.41730, -79.99647 ...</td>\n",
       "    </tr>\n",
       "    <tr>\n",
       "      <th>144184</th>\n",
       "      <td>5468442_40.4389733815176</td>\n",
       "      <td>-79.895361</td>\n",
       "      <td>40.438973</td>\n",
       "      <td>MULTIPOLYGON (((-79.88357 40.43886, -79.88419 ...</td>\n",
       "    </tr>\n",
       "  </tbody>\n",
       "</table>\n",
       "<p>144185 rows × 4 columns</p>\n",
       "</div>"
      ],
      "text/plain": [
       "                        UNIQUEID          X          Y  \\\n",
       "0       4888407_40.4680212651577 -79.910724  40.468021   \n",
       "1       4888408_40.4357245082487 -80.024640  40.435725   \n",
       "2        4888412_40.478541348714 -79.953998  40.478541   \n",
       "3       4888416_40.4549158768041 -79.882681  40.454916   \n",
       "4       4888422_40.4266880870026 -79.981711  40.426688   \n",
       "...                          ...        ...        ...   \n",
       "144180  5468419_40.3895155605449 -79.920191  40.389516   \n",
       "144181  5468422_40.4007550055504 -79.985343  40.400755   \n",
       "144182  5468425_40.4608145008291 -79.917927  40.460815   \n",
       "144183  5468438_40.4174061002107 -80.007634  40.417406   \n",
       "144184  5468442_40.4389733815176 -79.895361  40.438973   \n",
       "\n",
       "                                                 geometry  \n",
       "0       MULTIPOLYGON (((-79.89893 40.46791, -79.89955 ...  \n",
       "1       MULTIPOLYGON (((-80.01285 40.43562, -80.01347 ...  \n",
       "2       MULTIPOLYGON (((-79.94220 40.47843, -79.94282 ...  \n",
       "3       MULTIPOLYGON (((-79.87089 40.45480, -79.87151 ...  \n",
       "4       MULTIPOLYGON (((-79.96992 40.42658, -79.97054 ...  \n",
       "...                                                   ...  \n",
       "144180  MULTIPOLYGON (((-79.90841 40.38940, -79.90903 ...  \n",
       "144181  MULTIPOLYGON (((-79.97356 40.40065, -79.97418 ...  \n",
       "144182  MULTIPOLYGON (((-79.90613 40.46070, -79.90676 ...  \n",
       "144183  MULTIPOLYGON (((-79.99585 40.41730, -79.99647 ...  \n",
       "144184  MULTIPOLYGON (((-79.88357 40.43886, -79.88419 ...  \n",
       "\n",
       "[144185 rows x 4 columns]"
      ]
     },
     "execution_count": 46,
     "metadata": {},
     "output_type": "execute_result"
    }
   ],
   "source": [
    "parcel_buffer_4326"
   ]
  },
  {
   "cell_type": "markdown",
   "id": "efbf1cde-9abb-499d-b898-c207b1156363",
   "metadata": {},
   "source": [
    "### 2 Build a function to conduct the network analysis"
   ]
  },
  {
   "cell_type": "code",
   "execution_count": 122,
   "id": "072bdc3b-0753-47d6-a677-43c3bfbc9d12",
   "metadata": {},
   "outputs": [],
   "source": [
    "network_stats = pd.DataFrame(columns=['UNIQUEID', 'X', 'Y', 'circuity_avg', 'streets_per_node_avg', 'intersection_count', 'edge_length_avg'])"
   ]
  },
  {
   "cell_type": "markdown",
   "id": "a3f10357-9585-43ba-a3b7-81cb0a0f424d",
   "metadata": {},
   "source": [
    "##### Option 1: the ordinary for loop"
   ]
  },
  {
   "cell_type": "code",
   "execution_count": 123,
   "id": "8ce56f2e-208e-4b60-9049-fc1e8683a74e",
   "metadata": {},
   "outputs": [],
   "source": [
    "for i in range(0, 5):\n",
    "        \n",
    "        parcel_buffer = parcel_buffer_4326.iloc[i]\n",
    "        buffer_geometry = parcel_buffer['geometry']\n",
    "        G = ox.graph_from_polygon(buffer_geometry)\n",
    "        stats = ox.stats.basic_stats(G)\n",
    "        \n",
    "        network_stats = network_stats.append({'UNIQUEID': parcel_buffer['UNIQUEID'],\n",
    "                                              'X': parcel_buffer['X'],\n",
    "                                              'Y': parcel_buffer['Y'],\n",
    "                                              'circuity_avg': stats['circuity_avg'],\n",
    "                                              'streets_per_node_avg': stats['streets_per_node_avg'],\n",
    "                                              'intersection_count': stats['intersection_count'],\n",
    "                                              'edge_length_avg': stats['edge_length_avg']}, ignore_index=True)"
   ]
  },
  {
   "cell_type": "code",
   "execution_count": 124,
   "id": "f7ab5948-827f-45bc-8da1-7143de8d026a",
   "metadata": {},
   "outputs": [
    {
     "data": {
      "text/html": [
       "<div>\n",
       "<style scoped>\n",
       "    .dataframe tbody tr th:only-of-type {\n",
       "        vertical-align: middle;\n",
       "    }\n",
       "\n",
       "    .dataframe tbody tr th {\n",
       "        vertical-align: top;\n",
       "    }\n",
       "\n",
       "    .dataframe thead th {\n",
       "        text-align: right;\n",
       "    }\n",
       "</style>\n",
       "<table border=\"1\" class=\"dataframe\">\n",
       "  <thead>\n",
       "    <tr style=\"text-align: right;\">\n",
       "      <th></th>\n",
       "      <th>UNIQUEID</th>\n",
       "      <th>X</th>\n",
       "      <th>Y</th>\n",
       "      <th>circuity_avg</th>\n",
       "      <th>streets_per_node_avg</th>\n",
       "      <th>intersection_count</th>\n",
       "      <th>edge_length_avg</th>\n",
       "    </tr>\n",
       "  </thead>\n",
       "  <tbody>\n",
       "    <tr>\n",
       "      <th>0</th>\n",
       "      <td>4888407_40.4680212651577</td>\n",
       "      <td>-79.910724</td>\n",
       "      <td>40.468021</td>\n",
       "      <td>1.050326</td>\n",
       "      <td>2.993056</td>\n",
       "      <td>491</td>\n",
       "      <td>70.007201</td>\n",
       "    </tr>\n",
       "    <tr>\n",
       "      <th>1</th>\n",
       "      <td>4888408_40.4357245082487</td>\n",
       "      <td>-80.024640</td>\n",
       "      <td>40.435725</td>\n",
       "      <td>1.078281</td>\n",
       "      <td>2.815238</td>\n",
       "      <td>431</td>\n",
       "      <td>77.754035</td>\n",
       "    </tr>\n",
       "    <tr>\n",
       "      <th>2</th>\n",
       "      <td>4888412_40.478541348714</td>\n",
       "      <td>-79.953998</td>\n",
       "      <td>40.478541</td>\n",
       "      <td>1.065602</td>\n",
       "      <td>2.992079</td>\n",
       "      <td>455</td>\n",
       "      <td>72.845738</td>\n",
       "    </tr>\n",
       "    <tr>\n",
       "      <th>3</th>\n",
       "      <td>4888416_40.4549158768041</td>\n",
       "      <td>-79.882681</td>\n",
       "      <td>40.454916</td>\n",
       "      <td>1.037151</td>\n",
       "      <td>3.015190</td>\n",
       "      <td>349</td>\n",
       "      <td>89.132448</td>\n",
       "    </tr>\n",
       "    <tr>\n",
       "      <th>4</th>\n",
       "      <td>4888422_40.4266880870026</td>\n",
       "      <td>-79.981711</td>\n",
       "      <td>40.426688</td>\n",
       "      <td>1.076262</td>\n",
       "      <td>3.038168</td>\n",
       "      <td>584</td>\n",
       "      <td>66.513862</td>\n",
       "    </tr>\n",
       "  </tbody>\n",
       "</table>\n",
       "</div>"
      ],
      "text/plain": [
       "                   UNIQUEID          X          Y  circuity_avg  \\\n",
       "0  4888407_40.4680212651577 -79.910724  40.468021      1.050326   \n",
       "1  4888408_40.4357245082487 -80.024640  40.435725      1.078281   \n",
       "2   4888412_40.478541348714 -79.953998  40.478541      1.065602   \n",
       "3  4888416_40.4549158768041 -79.882681  40.454916      1.037151   \n",
       "4  4888422_40.4266880870026 -79.981711  40.426688      1.076262   \n",
       "\n",
       "   streets_per_node_avg intersection_count  edge_length_avg  \n",
       "0              2.993056                491        70.007201  \n",
       "1              2.815238                431        77.754035  \n",
       "2              2.992079                455        72.845738  \n",
       "3              3.015190                349        89.132448  \n",
       "4              3.038168                584        66.513862  "
      ]
     },
     "execution_count": 124,
     "metadata": {},
     "output_type": "execute_result"
    }
   ],
   "source": [
    "network_stats"
   ]
  },
  {
   "cell_type": "code",
   "execution_count": 130,
   "id": "d633b5db-c5cf-4cdb-99c1-90425eeff589",
   "metadata": {},
   "outputs": [],
   "source": [
    "\n",
    "network_stats.at[0,'UNIQUEID']= 20"
   ]
  },
  {
   "cell_type": "markdown",
   "id": "77642fdb-4441-4368-b2d3-ec2fda3e2259",
   "metadata": {},
   "source": [
    "##### 2.2 Option 2: work with parallel computing"
   ]
  },
  {
   "cell_type": "code",
   "execution_count": 155,
   "id": "20bf2a5c-cc4e-4063-a043-a1120de1517a",
   "metadata": {},
   "outputs": [],
   "source": [
    "network_stats_row = pd.DataFrame(parcel_buffer_4326)[['UNIQUEID', 'X', 'Y']]"
   ]
  },
  {
   "cell_type": "code",
   "execution_count": 156,
   "id": "302574d3-2984-470a-9cc6-fc20a65e5073",
   "metadata": {},
   "outputs": [],
   "source": [
    "network_stats_row['circuity_avg'] = 0.000000\n",
    "network_stats_row['streets_per_node_avg'] = 0.000000\n",
    "network_stats_row['intersection_count'] = 0.000000\n",
    "network_stats_row['edge_length_avg'] = 0.000000"
   ]
  },
  {
   "cell_type": "code",
   "execution_count": 162,
   "id": "25e1b938-93d8-4a75-a89e-267db31c1298",
   "metadata": {},
   "outputs": [],
   "source": [
    "network_stats_row.at[0,'UNIQUEID']= 20"
   ]
  },
  {
   "cell_type": "code",
   "execution_count": 163,
   "id": "8552641a-252f-47cf-b95c-6927337d0982",
   "metadata": {},
   "outputs": [
    {
     "data": {
      "text/html": [
       "<div>\n",
       "<style scoped>\n",
       "    .dataframe tbody tr th:only-of-type {\n",
       "        vertical-align: middle;\n",
       "    }\n",
       "\n",
       "    .dataframe tbody tr th {\n",
       "        vertical-align: top;\n",
       "    }\n",
       "\n",
       "    .dataframe thead th {\n",
       "        text-align: right;\n",
       "    }\n",
       "</style>\n",
       "<table border=\"1\" class=\"dataframe\">\n",
       "  <thead>\n",
       "    <tr style=\"text-align: right;\">\n",
       "      <th></th>\n",
       "      <th>UNIQUEID</th>\n",
       "      <th>X</th>\n",
       "      <th>Y</th>\n",
       "      <th>circuity_avg</th>\n",
       "      <th>streets_per_node_avg</th>\n",
       "      <th>intersection_count</th>\n",
       "      <th>edge_length_avg</th>\n",
       "    </tr>\n",
       "  </thead>\n",
       "  <tbody>\n",
       "    <tr>\n",
       "      <th>0</th>\n",
       "      <td>20</td>\n",
       "      <td>-79.910724</td>\n",
       "      <td>40.468021</td>\n",
       "      <td>0.0</td>\n",
       "      <td>0.0</td>\n",
       "      <td>0.0</td>\n",
       "      <td>0.0</td>\n",
       "    </tr>\n",
       "    <tr>\n",
       "      <th>1</th>\n",
       "      <td>4888408_40.4357245082487</td>\n",
       "      <td>-80.024640</td>\n",
       "      <td>40.435725</td>\n",
       "      <td>0.0</td>\n",
       "      <td>0.0</td>\n",
       "      <td>0.0</td>\n",
       "      <td>0.0</td>\n",
       "    </tr>\n",
       "    <tr>\n",
       "      <th>2</th>\n",
       "      <td>4888412_40.478541348714</td>\n",
       "      <td>-79.953998</td>\n",
       "      <td>40.478541</td>\n",
       "      <td>0.0</td>\n",
       "      <td>0.0</td>\n",
       "      <td>0.0</td>\n",
       "      <td>0.0</td>\n",
       "    </tr>\n",
       "    <tr>\n",
       "      <th>3</th>\n",
       "      <td>4888416_40.4549158768041</td>\n",
       "      <td>-79.882681</td>\n",
       "      <td>40.454916</td>\n",
       "      <td>0.0</td>\n",
       "      <td>0.0</td>\n",
       "      <td>0.0</td>\n",
       "      <td>0.0</td>\n",
       "    </tr>\n",
       "    <tr>\n",
       "      <th>4</th>\n",
       "      <td>4888422_40.4266880870026</td>\n",
       "      <td>-79.981711</td>\n",
       "      <td>40.426688</td>\n",
       "      <td>0.0</td>\n",
       "      <td>0.0</td>\n",
       "      <td>0.0</td>\n",
       "      <td>0.0</td>\n",
       "    </tr>\n",
       "    <tr>\n",
       "      <th>...</th>\n",
       "      <td>...</td>\n",
       "      <td>...</td>\n",
       "      <td>...</td>\n",
       "      <td>...</td>\n",
       "      <td>...</td>\n",
       "      <td>...</td>\n",
       "      <td>...</td>\n",
       "    </tr>\n",
       "    <tr>\n",
       "      <th>144180</th>\n",
       "      <td>5468419_40.3895155605449</td>\n",
       "      <td>-79.920191</td>\n",
       "      <td>40.389516</td>\n",
       "      <td>0.0</td>\n",
       "      <td>0.0</td>\n",
       "      <td>0.0</td>\n",
       "      <td>0.0</td>\n",
       "    </tr>\n",
       "    <tr>\n",
       "      <th>144181</th>\n",
       "      <td>5468422_40.4007550055504</td>\n",
       "      <td>-79.985343</td>\n",
       "      <td>40.400755</td>\n",
       "      <td>0.0</td>\n",
       "      <td>0.0</td>\n",
       "      <td>0.0</td>\n",
       "      <td>0.0</td>\n",
       "    </tr>\n",
       "    <tr>\n",
       "      <th>144182</th>\n",
       "      <td>5468425_40.4608145008291</td>\n",
       "      <td>-79.917927</td>\n",
       "      <td>40.460815</td>\n",
       "      <td>0.0</td>\n",
       "      <td>0.0</td>\n",
       "      <td>0.0</td>\n",
       "      <td>0.0</td>\n",
       "    </tr>\n",
       "    <tr>\n",
       "      <th>144183</th>\n",
       "      <td>5468438_40.4174061002107</td>\n",
       "      <td>-80.007634</td>\n",
       "      <td>40.417406</td>\n",
       "      <td>0.0</td>\n",
       "      <td>0.0</td>\n",
       "      <td>0.0</td>\n",
       "      <td>0.0</td>\n",
       "    </tr>\n",
       "    <tr>\n",
       "      <th>144184</th>\n",
       "      <td>5468442_40.4389733815176</td>\n",
       "      <td>-79.895361</td>\n",
       "      <td>40.438973</td>\n",
       "      <td>0.0</td>\n",
       "      <td>0.0</td>\n",
       "      <td>0.0</td>\n",
       "      <td>0.0</td>\n",
       "    </tr>\n",
       "  </tbody>\n",
       "</table>\n",
       "<p>144185 rows × 7 columns</p>\n",
       "</div>"
      ],
      "text/plain": [
       "                        UNIQUEID          X          Y  circuity_avg  \\\n",
       "0                             20 -79.910724  40.468021           0.0   \n",
       "1       4888408_40.4357245082487 -80.024640  40.435725           0.0   \n",
       "2        4888412_40.478541348714 -79.953998  40.478541           0.0   \n",
       "3       4888416_40.4549158768041 -79.882681  40.454916           0.0   \n",
       "4       4888422_40.4266880870026 -79.981711  40.426688           0.0   \n",
       "...                          ...        ...        ...           ...   \n",
       "144180  5468419_40.3895155605449 -79.920191  40.389516           0.0   \n",
       "144181  5468422_40.4007550055504 -79.985343  40.400755           0.0   \n",
       "144182  5468425_40.4608145008291 -79.917927  40.460815           0.0   \n",
       "144183  5468438_40.4174061002107 -80.007634  40.417406           0.0   \n",
       "144184  5468442_40.4389733815176 -79.895361  40.438973           0.0   \n",
       "\n",
       "        streets_per_node_avg  intersection_count  edge_length_avg  \n",
       "0                        0.0                 0.0              0.0  \n",
       "1                        0.0                 0.0              0.0  \n",
       "2                        0.0                 0.0              0.0  \n",
       "3                        0.0                 0.0              0.0  \n",
       "4                        0.0                 0.0              0.0  \n",
       "...                      ...                 ...              ...  \n",
       "144180                   0.0                 0.0              0.0  \n",
       "144181                   0.0                 0.0              0.0  \n",
       "144182                   0.0                 0.0              0.0  \n",
       "144183                   0.0                 0.0              0.0  \n",
       "144184                   0.0                 0.0              0.0  \n",
       "\n",
       "[144185 rows x 7 columns]"
      ]
     },
     "execution_count": 163,
     "metadata": {},
     "output_type": "execute_result"
    }
   ],
   "source": [
    "network_stats_row"
   ]
  },
  {
   "cell_type": "code",
   "execution_count": 165,
   "id": "d6d91440-f1e2-4bfb-8a3c-e3dc46187092",
   "metadata": {},
   "outputs": [],
   "source": [
    "for i in range(0, 1):\n",
    "    parcel_buffer = parcel_buffer_4326.iloc[i]\n",
    "    buffer_geometry = parcel_buffer['geometry']\n",
    "    G = ox.graph_from_polygon(buffer_geometry)\n",
    "    stats = ox.stats.basic_stats(G)\n",
    "    \n",
    "    network_stats_row.at[i,'circuity_avg']= stats['circuity_avg']\n",
    "    network_stats_row.at[i,'streets_per_node_avg']= stats['streets_per_node_avg']\n",
    "    network_stats_row.at[i,'intersection_count']= stats['intersection_count']\n",
    "    network_stats_row.at[i,'edge_length_avg']= stats['edge_length_avg']"
   ]
  },
  {
   "cell_type": "code",
   "execution_count": 166,
   "id": "1e52b029-f8f0-4392-a9d1-9fa9c1f17ee2",
   "metadata": {},
   "outputs": [
    {
     "data": {
      "text/html": [
       "<div>\n",
       "<style scoped>\n",
       "    .dataframe tbody tr th:only-of-type {\n",
       "        vertical-align: middle;\n",
       "    }\n",
       "\n",
       "    .dataframe tbody tr th {\n",
       "        vertical-align: top;\n",
       "    }\n",
       "\n",
       "    .dataframe thead th {\n",
       "        text-align: right;\n",
       "    }\n",
       "</style>\n",
       "<table border=\"1\" class=\"dataframe\">\n",
       "  <thead>\n",
       "    <tr style=\"text-align: right;\">\n",
       "      <th></th>\n",
       "      <th>UNIQUEID</th>\n",
       "      <th>X</th>\n",
       "      <th>Y</th>\n",
       "      <th>circuity_avg</th>\n",
       "      <th>streets_per_node_avg</th>\n",
       "      <th>intersection_count</th>\n",
       "      <th>edge_length_avg</th>\n",
       "    </tr>\n",
       "  </thead>\n",
       "  <tbody>\n",
       "    <tr>\n",
       "      <th>0</th>\n",
       "      <td>20</td>\n",
       "      <td>-79.910724</td>\n",
       "      <td>40.468021</td>\n",
       "      <td>1.050326</td>\n",
       "      <td>2.993056</td>\n",
       "      <td>491.0</td>\n",
       "      <td>70.007201</td>\n",
       "    </tr>\n",
       "    <tr>\n",
       "      <th>1</th>\n",
       "      <td>4888408_40.4357245082487</td>\n",
       "      <td>-80.024640</td>\n",
       "      <td>40.435725</td>\n",
       "      <td>0.000000</td>\n",
       "      <td>0.000000</td>\n",
       "      <td>0.0</td>\n",
       "      <td>0.000000</td>\n",
       "    </tr>\n",
       "    <tr>\n",
       "      <th>2</th>\n",
       "      <td>4888412_40.478541348714</td>\n",
       "      <td>-79.953998</td>\n",
       "      <td>40.478541</td>\n",
       "      <td>0.000000</td>\n",
       "      <td>0.000000</td>\n",
       "      <td>0.0</td>\n",
       "      <td>0.000000</td>\n",
       "    </tr>\n",
       "    <tr>\n",
       "      <th>3</th>\n",
       "      <td>4888416_40.4549158768041</td>\n",
       "      <td>-79.882681</td>\n",
       "      <td>40.454916</td>\n",
       "      <td>0.000000</td>\n",
       "      <td>0.000000</td>\n",
       "      <td>0.0</td>\n",
       "      <td>0.000000</td>\n",
       "    </tr>\n",
       "    <tr>\n",
       "      <th>4</th>\n",
       "      <td>4888422_40.4266880870026</td>\n",
       "      <td>-79.981711</td>\n",
       "      <td>40.426688</td>\n",
       "      <td>0.000000</td>\n",
       "      <td>0.000000</td>\n",
       "      <td>0.0</td>\n",
       "      <td>0.000000</td>\n",
       "    </tr>\n",
       "    <tr>\n",
       "      <th>...</th>\n",
       "      <td>...</td>\n",
       "      <td>...</td>\n",
       "      <td>...</td>\n",
       "      <td>...</td>\n",
       "      <td>...</td>\n",
       "      <td>...</td>\n",
       "      <td>...</td>\n",
       "    </tr>\n",
       "    <tr>\n",
       "      <th>144180</th>\n",
       "      <td>5468419_40.3895155605449</td>\n",
       "      <td>-79.920191</td>\n",
       "      <td>40.389516</td>\n",
       "      <td>0.000000</td>\n",
       "      <td>0.000000</td>\n",
       "      <td>0.0</td>\n",
       "      <td>0.000000</td>\n",
       "    </tr>\n",
       "    <tr>\n",
       "      <th>144181</th>\n",
       "      <td>5468422_40.4007550055504</td>\n",
       "      <td>-79.985343</td>\n",
       "      <td>40.400755</td>\n",
       "      <td>0.000000</td>\n",
       "      <td>0.000000</td>\n",
       "      <td>0.0</td>\n",
       "      <td>0.000000</td>\n",
       "    </tr>\n",
       "    <tr>\n",
       "      <th>144182</th>\n",
       "      <td>5468425_40.4608145008291</td>\n",
       "      <td>-79.917927</td>\n",
       "      <td>40.460815</td>\n",
       "      <td>0.000000</td>\n",
       "      <td>0.000000</td>\n",
       "      <td>0.0</td>\n",
       "      <td>0.000000</td>\n",
       "    </tr>\n",
       "    <tr>\n",
       "      <th>144183</th>\n",
       "      <td>5468438_40.4174061002107</td>\n",
       "      <td>-80.007634</td>\n",
       "      <td>40.417406</td>\n",
       "      <td>0.000000</td>\n",
       "      <td>0.000000</td>\n",
       "      <td>0.0</td>\n",
       "      <td>0.000000</td>\n",
       "    </tr>\n",
       "    <tr>\n",
       "      <th>144184</th>\n",
       "      <td>5468442_40.4389733815176</td>\n",
       "      <td>-79.895361</td>\n",
       "      <td>40.438973</td>\n",
       "      <td>0.000000</td>\n",
       "      <td>0.000000</td>\n",
       "      <td>0.0</td>\n",
       "      <td>0.000000</td>\n",
       "    </tr>\n",
       "  </tbody>\n",
       "</table>\n",
       "<p>144185 rows × 7 columns</p>\n",
       "</div>"
      ],
      "text/plain": [
       "                        UNIQUEID          X          Y  circuity_avg  \\\n",
       "0                             20 -79.910724  40.468021      1.050326   \n",
       "1       4888408_40.4357245082487 -80.024640  40.435725      0.000000   \n",
       "2        4888412_40.478541348714 -79.953998  40.478541      0.000000   \n",
       "3       4888416_40.4549158768041 -79.882681  40.454916      0.000000   \n",
       "4       4888422_40.4266880870026 -79.981711  40.426688      0.000000   \n",
       "...                          ...        ...        ...           ...   \n",
       "144180  5468419_40.3895155605449 -79.920191  40.389516      0.000000   \n",
       "144181  5468422_40.4007550055504 -79.985343  40.400755      0.000000   \n",
       "144182  5468425_40.4608145008291 -79.917927  40.460815      0.000000   \n",
       "144183  5468438_40.4174061002107 -80.007634  40.417406      0.000000   \n",
       "144184  5468442_40.4389733815176 -79.895361  40.438973      0.000000   \n",
       "\n",
       "        streets_per_node_avg  intersection_count  edge_length_avg  \n",
       "0                   2.993056               491.0        70.007201  \n",
       "1                   0.000000                 0.0         0.000000  \n",
       "2                   0.000000                 0.0         0.000000  \n",
       "3                   0.000000                 0.0         0.000000  \n",
       "4                   0.000000                 0.0         0.000000  \n",
       "...                      ...                 ...              ...  \n",
       "144180              0.000000                 0.0         0.000000  \n",
       "144181              0.000000                 0.0         0.000000  \n",
       "144182              0.000000                 0.0         0.000000  \n",
       "144183              0.000000                 0.0         0.000000  \n",
       "144184              0.000000                 0.0         0.000000  \n",
       "\n",
       "[144185 rows x 7 columns]"
      ]
     },
     "execution_count": 166,
     "metadata": {},
     "output_type": "execute_result"
    }
   ],
   "source": [
    "network_stats_row"
   ]
  },
  {
   "cell_type": "code",
   "execution_count": null,
   "id": "1eb332c6-ad57-4e68-99ae-99e167d04ed3",
   "metadata": {},
   "outputs": [],
   "source": []
  },
  {
   "cell_type": "code",
   "execution_count": null,
   "id": "aef4c175-9dbb-420c-a394-99e0ee7cf49c",
   "metadata": {},
   "outputs": [],
   "source": [
    "def network_statistics(i):\n",
    "    parcel_buffer = parcel_buffer_4326.iloc[i]\n",
    "    buffer_geometry = parcel_buffer['geometry']\n",
    "    G = ox.graph_from_polygon(buffer_geometry)\n",
    "    stats = ox.stats.basic_stats(G)\n",
    "\n",
    "    network_stats_row.at[i,'circuity_avg']= stats['circuity_avg']\n",
    "    network_stats_row.at[i,'streets_per_node_avg']= stats['streets_per_node_avg']\n",
    "    network_stats_row.at[i,'intersection_count']= stats['intersection_count']\n",
    "    network_stats_row.at[i,'edge_length_avg']= stats['edge_length_avg']\n",
    "\n",
    "Parallel(n_jobs=8)(delayed(network_statistics)(i) for i in range(0, 1))"
   ]
  },
  {
   "cell_type": "code",
   "execution_count": null,
   "id": "1646de43-dff3-46e3-bd79-b9925f115404",
   "metadata": {},
   "outputs": [],
   "source": []
  },
  {
   "cell_type": "code",
   "execution_count": null,
   "id": "0726adcd-5de2-46c3-be02-6192f39d43f0",
   "metadata": {},
   "outputs": [],
   "source": []
  },
  {
   "cell_type": "code",
   "execution_count": 189,
   "id": "04697ed9-4f9e-4979-8cb5-1235dde528ac",
   "metadata": {},
   "outputs": [],
   "source": [
    "tmp = []"
   ]
  },
  {
   "cell_type": "code",
   "execution_count": 194,
   "id": "dfda744d-d315-494b-8cab-be9e7a338613",
   "metadata": {},
   "outputs": [],
   "source": [
    "network_stats = pd.DataFrame(columns=['UNIQUEID', 'X', 'Y', 'circuity_avg', 'streets_per_node_avg', 'intersection_count', 'edge_length_avg'])"
   ]
  },
  {
   "cell_type": "code",
   "execution_count": 195,
   "id": "176b74cd-469a-42ee-98eb-b0a602c3a27d",
   "metadata": {},
   "outputs": [
    {
     "data": {
      "text/plain": [
       "[Empty DataFrame\n",
       " Columns: [UNIQUEID, X, Y, circuity_avg, streets_per_node_avg, intersection_count, edge_length_avg]\n",
       " Index: []]"
      ]
     },
     "execution_count": 195,
     "metadata": {},
     "output_type": "execute_result"
    }
   ],
   "source": [
    "def network_statistics(i):\n",
    "    parcel_buffer = parcel_buffer_4326.iloc[i]\n",
    "    buffer_geometry = parcel_buffer['geometry']\n",
    "    G = ox.graph_from_polygon(buffer_geometry)\n",
    "    stats = ox.stats.basic_stats(G)\n",
    "\n",
    "    global network_stats\n",
    "    network_stats.append({'UNIQUEID': parcel_buffer['UNIQUEID'],\n",
    "                                      'X': parcel_buffer['X'],\n",
    "                                      'Y': parcel_buffer['Y'],\n",
    "                                      'circuity_avg': stats['circuity_avg'],\n",
    "                                      'streets_per_node_avg': stats['streets_per_node_avg'],\n",
    "                                      'intersection_count': stats['intersection_count'],\n",
    "                                      'edge_length_avg': stats['edge_length_avg']}, ignore_index=True)\n",
    "    return network_stats\n",
    "\n",
    "\n",
    "Parallel(n_jobs=8)(delayed(network_statistics)(i) for i in range(0, 1))"
   ]
  },
  {
   "cell_type": "code",
   "execution_count": 196,
   "id": "1fa470e5-1f45-47c9-9edc-edbd3327ae4c",
   "metadata": {},
   "outputs": [
    {
     "data": {
      "text/html": [
       "<div>\n",
       "<style scoped>\n",
       "    .dataframe tbody tr th:only-of-type {\n",
       "        vertical-align: middle;\n",
       "    }\n",
       "\n",
       "    .dataframe tbody tr th {\n",
       "        vertical-align: top;\n",
       "    }\n",
       "\n",
       "    .dataframe thead th {\n",
       "        text-align: right;\n",
       "    }\n",
       "</style>\n",
       "<table border=\"1\" class=\"dataframe\">\n",
       "  <thead>\n",
       "    <tr style=\"text-align: right;\">\n",
       "      <th></th>\n",
       "      <th>UNIQUEID</th>\n",
       "      <th>X</th>\n",
       "      <th>Y</th>\n",
       "      <th>circuity_avg</th>\n",
       "      <th>streets_per_node_avg</th>\n",
       "      <th>intersection_count</th>\n",
       "      <th>edge_length_avg</th>\n",
       "    </tr>\n",
       "  </thead>\n",
       "  <tbody>\n",
       "  </tbody>\n",
       "</table>\n",
       "</div>"
      ],
      "text/plain": [
       "Empty DataFrame\n",
       "Columns: [UNIQUEID, X, Y, circuity_avg, streets_per_node_avg, intersection_count, edge_length_avg]\n",
       "Index: []"
      ]
     },
     "execution_count": 196,
     "metadata": {},
     "output_type": "execute_result"
    }
   ],
   "source": [
    "network_stats"
   ]
  },
  {
   "cell_type": "code",
   "execution_count": 197,
   "id": "66d2d02b-fb1b-484f-ba48-5c8c24db6bc5",
   "metadata": {},
   "outputs": [
    {
     "data": {
      "text/plain": [
       "UNIQUEID                             4888408_40.4357245082487\n",
       "X                                                   -80.02464\n",
       "Y                                                   40.435725\n",
       "geometry    (POLYGON ((-80.0128516127652 40.43562444072955...\n",
       "Name: 1, dtype: object"
      ]
     },
     "execution_count": 197,
     "metadata": {},
     "output_type": "execute_result"
    }
   ],
   "source": [
    "parcel_buffer = parcel_buffer_4326.iloc[1]\n",
    "parcel_buffer"
   ]
  },
  {
   "cell_type": "code",
   "execution_count": null,
   "id": "92b59899-b838-471f-8829-2f33ebcc86ff",
   "metadata": {},
   "outputs": [],
   "source": []
  },
  {
   "cell_type": "code",
   "execution_count": null,
   "id": "c8eec89e-743a-4b5e-93b4-ed6d7070f555",
   "metadata": {},
   "outputs": [],
   "source": []
  },
  {
   "cell_type": "code",
   "execution_count": 179,
   "id": "9b33cc99-e177-4615-aff4-508da4cff42d",
   "metadata": {},
   "outputs": [],
   "source": [
    "network_stats = pd.DataFrame(columns=['UNIQUEID', 'X', 'Y', 'circuity_avg', 'streets_per_node_avg', 'intersection_count', 'edge_length_avg'])"
   ]
  },
  {
   "cell_type": "code",
   "execution_count": 180,
   "id": "4dbe5bd8-05e4-4428-b9d6-6a610c85e116",
   "metadata": {},
   "outputs": [],
   "source": [
    "def network_statistics(i):\n",
    "    \n",
    "    network_stats = pd.DataFrame(columns=['UNIQUEID', 'X', 'Y', 'circuity_avg', 'streets_per_node_avg', 'intersection_count', 'edge_length_avg'])\n",
    "    parcel_buffer = parcel_buffer_4326.iloc[i]\n",
    "    buffer_geometry = parcel_buffer['geometry']\n",
    "    G = ox.graph_from_polygon(buffer_geometry)\n",
    "    stats = ox.stats.basic_stats(G)\n",
    "    \n",
    "    network_stats.append({'UNIQUEID': parcel_buffer['UNIQUEID'],\n",
    "                                      'X': parcel_buffer['X'],\n",
    "                                      'Y': parcel_buffer['Y'],\n",
    "                                      'circuity_avg': stats['circuity_avg'],\n",
    "                                      'streets_per_node_avg': stats['streets_per_node_avg'],\n",
    "                                      'intersection_count': stats['intersection_count'],\n",
    "                                      'edge_length_avg': stats['edge_length_avg']}, ignore_index=True)\n",
    "    "
   ]
  },
  {
   "cell_type": "code",
   "execution_count": 181,
   "id": "75d60c6c-3768-425f-8384-d6a843d09422",
   "metadata": {},
   "outputs": [],
   "source": [
    "network_statistics(2)"
   ]
  },
  {
   "cell_type": "code",
   "execution_count": 182,
   "id": "723a1766-fa35-4c14-9690-43f0db4714a6",
   "metadata": {},
   "outputs": [
    {
     "data": {
      "text/html": [
       "<div>\n",
       "<style scoped>\n",
       "    .dataframe tbody tr th:only-of-type {\n",
       "        vertical-align: middle;\n",
       "    }\n",
       "\n",
       "    .dataframe tbody tr th {\n",
       "        vertical-align: top;\n",
       "    }\n",
       "\n",
       "    .dataframe thead th {\n",
       "        text-align: right;\n",
       "    }\n",
       "</style>\n",
       "<table border=\"1\" class=\"dataframe\">\n",
       "  <thead>\n",
       "    <tr style=\"text-align: right;\">\n",
       "      <th></th>\n",
       "      <th>UNIQUEID</th>\n",
       "      <th>X</th>\n",
       "      <th>Y</th>\n",
       "      <th>circuity_avg</th>\n",
       "      <th>streets_per_node_avg</th>\n",
       "      <th>intersection_count</th>\n",
       "      <th>edge_length_avg</th>\n",
       "    </tr>\n",
       "  </thead>\n",
       "  <tbody>\n",
       "  </tbody>\n",
       "</table>\n",
       "</div>"
      ],
      "text/plain": [
       "Empty DataFrame\n",
       "Columns: [UNIQUEID, X, Y, circuity_avg, streets_per_node_avg, intersection_count, edge_length_avg]\n",
       "Index: []"
      ]
     },
     "execution_count": 182,
     "metadata": {},
     "output_type": "execute_result"
    }
   ],
   "source": [
    "network_stats"
   ]
  },
  {
   "cell_type": "code",
   "execution_count": null,
   "id": "f68fa68e-ab3e-4d55-b520-a2ac79e4f5e4",
   "metadata": {},
   "outputs": [],
   "source": []
  },
  {
   "cell_type": "code",
   "execution_count": 42,
   "id": "f9108a74-747d-481f-a2af-9278a4c2e620",
   "metadata": {},
   "outputs": [],
   "source": [
    "G = ox.graph_from_polygon(parcel_buffer_4326.iloc[0]['geometry'])"
   ]
  },
  {
   "cell_type": "code",
   "execution_count": null,
   "id": "7c99452d-10a3-461f-b4fc-87228a85eefb",
   "metadata": {},
   "outputs": [],
   "source": []
  },
  {
   "cell_type": "code",
   "execution_count": 49,
   "id": "0b1745f6-eb52-41ed-bd58-26c702b6b604",
   "metadata": {},
   "outputs": [
    {
     "data": {
      "image/png": "[encoded data removed]",
      "text/plain": [
       "<Figure size 576x576 with 1 Axes>"
      ]
     },
     "metadata": {},
     "output_type": "display_data"
    }
   ],
   "source": [
    "fig, ax = ox.plot_graph(G)"
   ]
  },
  {
   "cell_type": "code",
   "execution_count": 50,
   "id": "b8fb4b73-dbb8-478c-aa8f-d4e11e4b23df",
   "metadata": {},
   "outputs": [],
   "source": [
    "stats = ox.stats.basic_stats(G)"
   ]
  },
  {
   "cell_type": "code",
   "execution_count": 17,
   "id": "9c8ea5f3-a95b-4285-a106-4855656221b3",
   "metadata": {},
   "outputs": [
    {
     "data": {
      "text/plain": [
       "1.039516052289444"
      ]
     },
     "execution_count": 17,
     "metadata": {},
     "output_type": "execute_result"
    }
   ],
   "source": [
    "stats['circuity_avg']"
   ]
  },
  {
   "cell_type": "code",
   "execution_count": 51,
   "id": "62855ba0-6a07-4eba-b5c0-4f8c22962218",
   "metadata": {},
   "outputs": [
    {
     "data": {
      "text/plain": [
       "2.9930555555555554"
      ]
     },
     "execution_count": 51,
     "metadata": {},
     "output_type": "execute_result"
    }
   ],
   "source": []
  },
  {
   "cell_type": "code",
   "execution_count": 52,
   "id": "4c21b9b0-29ad-40a6-bd34-ee538ff654e8",
   "metadata": {},
   "outputs": [
    {
     "data": {
      "text/plain": [
       "491"
      ]
     },
     "execution_count": 52,
     "metadata": {},
     "output_type": "execute_result"
    }
   ],
   "source": []
  },
  {
   "cell_type": "code",
   "execution_count": 53,
   "id": "6b220cca-9d50-493f-be6a-e555e92ee606",
   "metadata": {},
   "outputs": [
    {
     "data": {
      "text/plain": [
       "70.00720051249182"
      ]
     },
     "execution_count": 53,
     "metadata": {},
     "output_type": "execute_result"
    }
   ],
   "source": []
  },
  {
   "cell_type": "code",
   "execution_count": null,
   "id": "d5d63edb-4d8c-4de5-bee6-943eb9238d0e",
   "metadata": {},
   "outputs": [],
   "source": []
  }
 ],
 "metadata": {
  "kernelspec": {
   "display_name": "Python (ox)",
   "language": "python",
   "name": "ox"
  },
  "language_info": {
   "codemirror_mode": {
    "name": "ipython",
    "version": 3
   },
   "file_extension": ".py",
   "mimetype": "text/x-python",
   "name": "python",
   "nbconvert_exporter": "python",
   "pygments_lexer": "ipython3",
   "version": "3.8.10"
  }
 },
 "nbformat": 4,
 "nbformat_minor": 5
}
